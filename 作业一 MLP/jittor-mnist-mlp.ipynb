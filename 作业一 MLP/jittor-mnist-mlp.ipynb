{
 "cells": [
  {
   "cell_type": "markdown",
   "metadata": {},
   "source": [
    "# MNIST handwritten digits classification with MLPs\n",
    "\n",
    "In this notebook, we'll train a multi-layer perceptron model to classify MNIST digits using **PyTorch**. \n",
    "\n",
    "First, the needed imports. "
   ]
  },
  {
   "cell_type": "code",
   "execution_count": null,
   "metadata": {},
   "outputs": [],
   "source": []
  },
  {
   "cell_type": "code",
   "execution_count": 1,
   "metadata": {
    "scrolled": true
   },
   "outputs": [
    {
     "name": "stderr",
     "output_type": "stream",
     "text": [
      "\u001b[38;5;2m[i 0310 12:13:36.270316 68 log.cc:351] Load log_sync: 1\u001b[m\n",
      "\u001b[38;5;2m[i 0310 12:13:36.295256 68 compiler.py:955] Jittor(1.3.6.10) src: /home/lzyhha/anaconda3/envs/jdet/lib/python3.8/site-packages/jittor\u001b[m\n",
      "\u001b[38;5;2m[i 0310 12:13:36.298770 68 compiler.py:956] g++ at /usr/bin/g++(9.4.0)\u001b[m\n",
      "\u001b[38;5;2m[i 0310 12:13:36.299407 68 compiler.py:957] cache_path: /home/lzyhha/.cache/jittor/jt1.3.6/g++9.4.0/py3.8.13/Linux-5.15.0-6xe4/12thGenIntelRCx51/default\u001b[m\n",
      "\u001b[38;5;2m[i 0310 12:13:36.303558 68 __init__.py:411] Found nvcc(11.7.64) at /usr/local/cuda-11.7/bin/nvcc.\u001b[m\n",
      "\u001b[38;5;2m[i 0310 12:13:36.332255 68 __init__.py:411] Found gdb(20.04.1) at /usr/bin/gdb.\u001b[m\n",
      "\u001b[38;5;2m[i 0310 12:13:36.336249 68 __init__.py:411] Found addr2line(2.34) at /usr/bin/addr2line.\u001b[m\n",
      "\u001b[38;5;2m[i 0310 12:13:36.417743 68 compiler.py:1010] cuda key:cu11.7.64_sm_86\u001b[m\n",
      "\u001b[38;5;2m[i 0310 12:13:36.529791 68 __init__.py:227] Total mem: 62.58GB, using 16 procs for compiling.\u001b[m\n",
      "\u001b[38;5;2m[i 0310 12:13:36.597343 68 jit_compiler.cc:28] Load cc_path: /usr/bin/g++\u001b[m\n",
      "\u001b[38;5;2m[i 0310 12:13:36.675817 68 init.cc:62] Found cuda archs: [86,]\u001b[m\n",
      "\u001b[38;5;2m[i 0310 12:13:36.696276 68 __init__.py:411] Found mpicc(4.0.3) at /usr/bin/mpicc.\u001b[m\n",
      "\u001b[38;5;3m[w 0310 12:13:36.757266 68 compile_extern.py:203] CUDA related path found in LD_LIBRARY_PATH or PATH(['', '/usr/local/cuda-11.7/lib64', '/home/lzyhha/.vscode-server/bin/92da9481c0904c6adfe372c12da3b7748d74bdcb/bin/remote-cli', '/home/lzyhha/anaconda3/envs/jdet/bin', '/home/lzyhha/anaconda3/condabin', '/usr/local/sbin', '/usr/local/bin', '/usr/sbin', '/usr/bin', '/sbin', '/bin', '/usr/games', '/usr/local/games', '/snap/bin', '/usr/local/cuda-11.7/bin']), This path may cause jittor found the wrong libs, please unset LD_LIBRARY_PATH and remove cuda lib path in Path. \n",
      "Or you can let jittor install cuda for you: `python3.x -m jittor_utils.install_cuda`\u001b[m\n"
     ]
    },
    {
     "name": "stdout",
     "output_type": "stream",
     "text": [
      "Using Jittor version: 1.3.6.10\n"
     ]
    }
   ],
   "source": [
    "%matplotlib inline\n",
    "\n",
    "import jittor\n",
    "import jittor as jt\n",
    "import jittor.nn as nn\n",
    "from jittor import transform\n",
    "\n",
    "import numpy as np\n",
    "import matplotlib.pyplot as plt\n",
    "\n",
    "# Uncomment to use gpu\n",
    "# jt.flags.use_cuda = 1\n",
    "    \n",
    "print('Using Jittor version:', jittor.__version__)"
   ]
  },
  {
   "cell_type": "markdown",
   "metadata": {},
   "source": [
    "## Data\n",
    "\n",
    "Next we'll load the MNIST data.  First time we may have to download the data, which can take a while.\n",
    "\n",
    "Note that we are here using the MNIST test data for *validation*, instead of for testing the final model."
   ]
  },
  {
   "cell_type": "code",
   "execution_count": 2,
   "metadata": {},
   "outputs": [
    {
     "name": "stdout",
     "output_type": "stream",
     "text": [
      "Downloading https://storage.googleapis.com/cvdf-datasets/mnist/train-images-idx3-ubyte.gz to ./data/train-images-idx3-ubyte.gz\n"
     ]
    },
    {
     "name": "stderr",
     "output_type": "stream",
     "text": [
      "9.46MB [00:02, 3.72MB/s]                            \n"
     ]
    }
   ],
   "source": [
    "batch_size = 32\n",
    "\n",
    "train_loader = jt.dataset.MNIST(\n",
    "    './data/', \n",
    "    train=True, \n",
    "    batch_size=batch_size, \n",
    "    shuffle=True, \n",
    "    transform=transform.Gray())\n",
    "\n",
    "validation_loader = jt.dataset.MNIST(\n",
    "    './data/', \n",
    "    train=False, \n",
    "    batch_size=1, \n",
    "    shuffle=False, \n",
    "    transform=transform.Gray())"
   ]
  },
  {
   "cell_type": "markdown",
   "metadata": {},
   "source": [
    "The train and test data are provided via data loaders that provide iterators over the datasets. The first element of training data (`X_train`) is a 4th-order tensor of size (`batch_size`, 1, 28, 28), i.e. it consists of a batch of images of size 1x28x28 pixels. `y_train` is a vector containing the correct classes (\"0\", \"1\", ..., \"9\") for each training digit."
   ]
  },
  {
   "cell_type": "code",
   "execution_count": 3,
   "metadata": {},
   "outputs": [
    {
     "name": "stdout",
     "output_type": "stream",
     "text": [
      "X_train: [32,1,28,28,] type: float32\n",
      "y_train: [32,] type: int32\n"
     ]
    }
   ],
   "source": [
    "for (X_train, y_train) in train_loader:\n",
    "    print('X_train:', X_train.size(), 'type:', X_train.dtype)\n",
    "    print('y_train:', y_train.size(), 'type:', y_train.dtype)\n",
    "    break"
   ]
  },
  {
   "cell_type": "markdown",
   "metadata": {},
   "source": [
    "Here are the first 10 training digits:"
   ]
  },
  {
   "cell_type": "code",
   "execution_count": 4,
   "metadata": {},
   "outputs": [
    {
     "name": "stdout",
     "output_type": "stream",
     "text": [
      "[32,1,28,28,]\n",
      "[32,1,28,28,]\n",
      "[32,1,28,28,]\n",
      "[32,1,28,28,]\n",
      "[32,1,28,28,]\n",
      "[32,1,28,28,]\n",
      "[32,1,28,28,]\n",
      "[32,1,28,28,]\n",
      "[32,1,28,28,]\n",
      "[32,1,28,28,]\n"
     ]
    },
    {
     "data": {
      "image/png": "[encoded data removed]",
      "text/plain": [
       "<Figure size 1000x100 with 10 Axes>"
      ]
     },
     "metadata": {},
     "output_type": "display_data"
    }
   ],
   "source": [
    "pltsize=1\n",
    "plt.figure(figsize=(10*pltsize, pltsize))\n",
    "\n",
    "for i in range(10):\n",
    "    plt.subplot(1,10,i+1)\n",
    "    plt.axis('off')\n",
    "    print(X_train.shape)\n",
    "    plt.imshow(X_train[i,:,:,:].numpy().reshape(28,28), cmap=\"gray_r\")\n",
    "    plt.title('Class: '+str(y_train[i].item()))"
   ]
  },
  {
   "cell_type": "markdown",
   "metadata": {},
   "source": [
    "## MLP network definition\n",
    "\n",
    "Let's define the network as a Python class.  We have to write the `__init__()` and `forward()` methods, and PyTorch will automatically generate a `backward()` method for computing the gradients for the backward pass.\n",
    "\n",
    "Finally, we define an optimizer to update the model parameters based on the computed gradients.  We select *stochastic gradient descent (with momentum)* as the optimization algorithm, and set *learning rate* to 0.01.  Note that there are [several different options](http://pytorch.org/docs/optim.html#algorithms) for the optimizer in PyTorch that we could use instead of *SGD*."
   ]
  },
  {
   "cell_type": "code",
   "execution_count": 5,
   "metadata": {},
   "outputs": [
    {
     "name": "stdout",
     "output_type": "stream",
     "text": [
      "Net(\n",
      "    fc1: Linear(784, 100, float32[100,], None)\n",
      "    fc1_drop: Dropout(0.2, is_train=False)\n",
      "    fc2: Linear(100, 80, float32[80,], None)\n",
      "    fc2_drop: Dropout(0.2, is_train=False)\n",
      "    fc3: Linear(80, 10, float32[10,], None)\n",
      ")\n"
     ]
    }
   ],
   "source": [
    "class Net(nn.Module):\n",
    "    def __init__(self):\n",
    "        super(Net, self).__init__()\n",
    "        self.fc1 = nn.Linear(28*28, 100)  # weight: [28*28, 50]   bias: [50, ]\n",
    "        self.fc1_drop = nn.Dropout(0.2)\n",
    "        self.fc2 = nn.Linear(100, 80)\n",
    "        self.fc2_drop = nn.Dropout(0.2)\n",
    "        self.fc3 = nn.Linear(80, 10)\n",
    "        \n",
    "    def execute(self, x):\n",
    "        x = x.view(-1, 28*28)   # [32, 28*28]\n",
    "        x = nn.relu(self.fc1(x))\n",
    "        x = self.fc1_drop(x)\n",
    "        x = nn.relu(self.fc2(x))\n",
    "        x = self.fc2_drop(x)   # [32, 10]\n",
    "        return nn.log_softmax(self.fc3(x), dim=1)\n",
    "\n",
    "model = Net()\n",
    "optimizer = jt.optim.SGD(model.parameters(), lr=0.01, momentum=0.5)\n",
    "criterion = nn.CrossEntropyLoss()\n",
    "\n",
    "print(model)"
   ]
  },
  {
   "cell_type": "markdown",
   "metadata": {},
   "source": [
    "## Learning\n",
    "\n",
    "Let's now define functions to `train()` and `validate()` the model. "
   ]
  },
  {
   "cell_type": "code",
   "execution_count": 6,
   "metadata": {},
   "outputs": [],
   "source": [
    "def train(epoch, log_interval=200):\n",
    "    # Set model to training mode\n",
    "    model.train()\n",
    "    \n",
    "    # Loop over each batch from the training set\n",
    "    for batch_idx, (data, target) in enumerate(train_loader):\n",
    "        \n",
    "        # Pass data through the network\n",
    "        output = model(data)\n",
    "\n",
    "        # Calculate loss\n",
    "        loss = criterion(output, target)\n",
    "\n",
    "        # Backpropagate and update weights\n",
    "        optimizer.step(loss)  #  w - alpha * dL / dw\n",
    "        \n",
    "        if batch_idx % log_interval == 0:\n",
    "            print('Train Epoch: {} [{}/{} ({:.0f}%)]\\tLoss: {:.6f}'.format(\n",
    "                epoch, batch_idx * len(data), len(train_loader.dataset),\n",
    "                100. * batch_idx / len(train_loader), loss.data.item()))"
   ]
  },
  {
   "cell_type": "code",
   "execution_count": 7,
   "metadata": {},
   "outputs": [],
   "source": [
    "def validate(loss_vector, accuracy_vector):\n",
    "    model.eval()\n",
    "    val_loss, correct = 0, 0\n",
    "    for data, target in validation_loader:\n",
    "        output = model(data)\n",
    "        val_loss += criterion(output, target).data.item()\n",
    "        pred = output.argmax(dim=1)[0] # get the index of the max log-probability\n",
    "        correct += (pred == target).sum()\n",
    "\n",
    "    val_loss /= len(validation_loader)\n",
    "    loss_vector.append(val_loss)\n",
    "\n",
    "    accuracy = 100. * correct.float32() / len(validation_loader.dataset)\n",
    "    accuracy_vector.append(accuracy)\n",
    "    \n",
    "    print('\\nValidation set: Average loss: {:.4f}, Accuracy: {}/{} ({:.0f}%)\\n'.format(\n",
    "        val_loss, correct, len(validation_loader.dataset), accuracy))\n"
   ]
  },
  {
   "cell_type": "markdown",
   "metadata": {},
   "source": [
    "Now we are ready to train our model using the `train()` function.  An *epoch* means one pass through the whole training data. After each epoch, we evaluate the model using `validate()`. "
   ]
  },
  {
   "cell_type": "code",
   "execution_count": 8,
   "metadata": {},
   "outputs": [
    {
     "name": "stdout",
     "output_type": "stream",
     "text": [
      "Train Epoch: 1 [0/1875 (0%)]\tLoss: 2.306888\n",
      "Train Epoch: 1 [6400/1875 (11%)]\tLoss: 2.061920\n",
      "Train Epoch: 1 [12800/1875 (21%)]\tLoss: 1.207647\n",
      "Train Epoch: 1 [19200/1875 (32%)]\tLoss: 0.706364\n",
      "Train Epoch: 1 [25600/1875 (43%)]\tLoss: 0.642222\n",
      "Train Epoch: 1 [32000/1875 (53%)]\tLoss: 0.373945\n",
      "Train Epoch: 1 [38400/1875 (64%)]\tLoss: 0.553418\n",
      "Train Epoch: 1 [44800/1875 (75%)]\tLoss: 0.359139\n",
      "Train Epoch: 1 [51200/1875 (85%)]\tLoss: 0.443128\n",
      "Train Epoch: 1 [57600/1875 (96%)]\tLoss: 0.644373\n",
      "\n",
      "Validation set: Average loss: 0.3408, Accuracy: 9017/10000 (90%)\n",
      "\n",
      "Train Epoch: 2 [0/1875 (0%)]\tLoss: 0.451046\n",
      "Train Epoch: 2 [6400/1875 (11%)]\tLoss: 0.596838\n",
      "Train Epoch: 2 [12800/1875 (21%)]\tLoss: 0.476610\n",
      "Train Epoch: 2 [19200/1875 (32%)]\tLoss: 0.386908\n",
      "Train Epoch: 2 [25600/1875 (43%)]\tLoss: 0.353717\n",
      "Train Epoch: 2 [32000/1875 (53%)]\tLoss: 0.319995\n",
      "Train Epoch: 2 [38400/1875 (64%)]\tLoss: 0.380524\n",
      "Train Epoch: 2 [44800/1875 (75%)]\tLoss: 0.331995\n",
      "Train Epoch: 2 [51200/1875 (85%)]\tLoss: 0.155285\n",
      "Train Epoch: 2 [57600/1875 (96%)]\tLoss: 0.499096\n",
      "\n",
      "Validation set: Average loss: 0.2497, Accuracy: 9251/10000 (93%)\n",
      "\n",
      "Train Epoch: 3 [0/1875 (0%)]\tLoss: 0.398990\n",
      "Train Epoch: 3 [6400/1875 (11%)]\tLoss: 0.136895\n",
      "Train Epoch: 3 [12800/1875 (21%)]\tLoss: 0.223668\n",
      "Train Epoch: 3 [19200/1875 (32%)]\tLoss: 0.220621\n",
      "Train Epoch: 3 [25600/1875 (43%)]\tLoss: 0.097187\n",
      "Train Epoch: 3 [32000/1875 (53%)]\tLoss: 0.291110\n",
      "Train Epoch: 3 [38400/1875 (64%)]\tLoss: 0.179695\n",
      "Train Epoch: 3 [44800/1875 (75%)]\tLoss: 0.246743\n",
      "Train Epoch: 3 [51200/1875 (85%)]\tLoss: 0.271445\n",
      "Train Epoch: 3 [57600/1875 (96%)]\tLoss: 0.306889\n",
      "\n",
      "Validation set: Average loss: 0.1968, Accuracy: 9440/10000 (94%)\n",
      "\n",
      "Train Epoch: 4 [0/1875 (0%)]\tLoss: 0.686937\n",
      "Train Epoch: 4 [6400/1875 (11%)]\tLoss: 0.105567\n",
      "Train Epoch: 4 [12800/1875 (21%)]\tLoss: 0.233769\n",
      "Train Epoch: 4 [19200/1875 (32%)]\tLoss: 0.142139\n",
      "Train Epoch: 4 [25600/1875 (43%)]\tLoss: 0.251754\n",
      "Train Epoch: 4 [32000/1875 (53%)]\tLoss: 0.165156\n",
      "Train Epoch: 4 [38400/1875 (64%)]\tLoss: 0.170453\n",
      "Train Epoch: 4 [44800/1875 (75%)]\tLoss: 0.082592\n",
      "Train Epoch: 4 [51200/1875 (85%)]\tLoss: 0.315459\n",
      "Train Epoch: 4 [57600/1875 (96%)]\tLoss: 0.205179\n",
      "\n",
      "Validation set: Average loss: 0.1672, Accuracy: 9502/10000 (95%)\n",
      "\n",
      "Train Epoch: 5 [0/1875 (0%)]\tLoss: 0.039494\n",
      "Train Epoch: 5 [6400/1875 (11%)]\tLoss: 0.104752\n",
      "Train Epoch: 5 [12800/1875 (21%)]\tLoss: 0.368478\n",
      "Train Epoch: 5 [19200/1875 (32%)]\tLoss: 0.257530\n",
      "Train Epoch: 5 [25600/1875 (43%)]\tLoss: 0.094676\n",
      "Train Epoch: 5 [32000/1875 (53%)]\tLoss: 0.225650\n",
      "Train Epoch: 5 [38400/1875 (64%)]\tLoss: 0.127692\n",
      "Train Epoch: 5 [44800/1875 (75%)]\tLoss: 0.246469\n",
      "Train Epoch: 5 [51200/1875 (85%)]\tLoss: 0.268842\n",
      "Train Epoch: 5 [57600/1875 (96%)]\tLoss: 0.079441\n",
      "\n",
      "Validation set: Average loss: 0.1424, Accuracy: 9586/10000 (96%)\n",
      "\n",
      "Train Epoch: 6 [0/1875 (0%)]\tLoss: 0.401706\n",
      "Train Epoch: 6 [6400/1875 (11%)]\tLoss: 0.073620\n",
      "Train Epoch: 6 [12800/1875 (21%)]\tLoss: 0.070978\n",
      "Train Epoch: 6 [19200/1875 (32%)]\tLoss: 0.170696\n",
      "Train Epoch: 6 [25600/1875 (43%)]\tLoss: 0.063896\n",
      "Train Epoch: 6 [32000/1875 (53%)]\tLoss: 0.247964\n",
      "Train Epoch: 6 [38400/1875 (64%)]\tLoss: 0.130619\n",
      "Train Epoch: 6 [44800/1875 (75%)]\tLoss: 0.106297\n",
      "Train Epoch: 6 [51200/1875 (85%)]\tLoss: 0.152078\n",
      "Train Epoch: 6 [57600/1875 (96%)]\tLoss: 0.095519\n",
      "\n",
      "Validation set: Average loss: 0.1278, Accuracy: 9608/10000 (96%)\n",
      "\n",
      "Train Epoch: 7 [0/1875 (0%)]\tLoss: 0.147588\n",
      "Train Epoch: 7 [6400/1875 (11%)]\tLoss: 0.115035\n",
      "Train Epoch: 7 [12800/1875 (21%)]\tLoss: 0.244594\n",
      "Train Epoch: 7 [19200/1875 (32%)]\tLoss: 0.107666\n",
      "Train Epoch: 7 [25600/1875 (43%)]\tLoss: 0.182424\n",
      "Train Epoch: 7 [32000/1875 (53%)]\tLoss: 0.065275\n",
      "Train Epoch: 7 [38400/1875 (64%)]\tLoss: 0.151921\n",
      "Train Epoch: 7 [44800/1875 (75%)]\tLoss: 0.168603\n",
      "Train Epoch: 7 [51200/1875 (85%)]\tLoss: 0.048675\n",
      "Train Epoch: 7 [57600/1875 (96%)]\tLoss: 0.425805\n",
      "\n",
      "Validation set: Average loss: 0.1181, Accuracy: 9632/10000 (96%)\n",
      "\n",
      "Train Epoch: 8 [0/1875 (0%)]\tLoss: 0.030958\n",
      "Train Epoch: 8 [6400/1875 (11%)]\tLoss: 0.123384\n",
      "Train Epoch: 8 [12800/1875 (21%)]\tLoss: 0.383360\n",
      "Train Epoch: 8 [19200/1875 (32%)]\tLoss: 0.041564\n",
      "Train Epoch: 8 [25600/1875 (43%)]\tLoss: 0.190132\n",
      "Train Epoch: 8 [32000/1875 (53%)]\tLoss: 0.107540\n",
      "Train Epoch: 8 [38400/1875 (64%)]\tLoss: 0.246966\n",
      "Train Epoch: 8 [44800/1875 (75%)]\tLoss: 0.206992\n",
      "Train Epoch: 8 [51200/1875 (85%)]\tLoss: 0.042021\n",
      "Train Epoch: 8 [57600/1875 (96%)]\tLoss: 0.092512\n",
      "\n",
      "Validation set: Average loss: 0.1085, Accuracy: 9667/10000 (97%)\n",
      "\n",
      "Train Epoch: 9 [0/1875 (0%)]\tLoss: 0.137960\n",
      "Train Epoch: 9 [6400/1875 (11%)]\tLoss: 0.342598\n",
      "Train Epoch: 9 [12800/1875 (21%)]\tLoss: 0.181675\n",
      "Train Epoch: 9 [19200/1875 (32%)]\tLoss: 0.096210\n",
      "Train Epoch: 9 [25600/1875 (43%)]\tLoss: 0.118964\n",
      "Train Epoch: 9 [32000/1875 (53%)]\tLoss: 0.032027\n",
      "Train Epoch: 9 [38400/1875 (64%)]\tLoss: 0.179733\n",
      "Train Epoch: 9 [44800/1875 (75%)]\tLoss: 0.189527\n",
      "Train Epoch: 9 [51200/1875 (85%)]\tLoss: 0.048666\n",
      "Train Epoch: 9 [57600/1875 (96%)]\tLoss: 0.223590\n",
      "\n",
      "Validation set: Average loss: 0.1048, Accuracy: 9682/10000 (97%)\n",
      "\n",
      "Train Epoch: 10 [0/1875 (0%)]\tLoss: 0.091975\n",
      "Train Epoch: 10 [6400/1875 (11%)]\tLoss: 0.124097\n",
      "Train Epoch: 10 [12800/1875 (21%)]\tLoss: 0.277826\n",
      "Train Epoch: 10 [19200/1875 (32%)]\tLoss: 0.043957\n",
      "Train Epoch: 10 [25600/1875 (43%)]\tLoss: 0.089546\n",
      "Train Epoch: 10 [32000/1875 (53%)]\tLoss: 0.179097\n",
      "Train Epoch: 10 [38400/1875 (64%)]\tLoss: 0.288365\n",
      "Train Epoch: 10 [44800/1875 (75%)]\tLoss: 0.228667\n",
      "Train Epoch: 10 [51200/1875 (85%)]\tLoss: 0.153686\n",
      "Train Epoch: 10 [57600/1875 (96%)]\tLoss: 0.065171\n",
      "\n",
      "Validation set: Average loss: 0.0983, Accuracy: 9688/10000 (97%)\n",
      "\n",
      "CPU times: user 15min 39s, sys: 165 ms, total: 15min 40s\n",
      "Wall time: 40.2 s\n"
     ]
    }
   ],
   "source": [
    "%%time\n",
    "epochs = 10\n",
    "\n",
    "lossv, accv = [], []\n",
    "for epoch in range(1, epochs + 1):\n",
    "    train(epoch)\n",
    "    validate(lossv, accv)"
   ]
  },
  {
   "cell_type": "markdown",
   "metadata": {},
   "source": [
    "Let's now visualize how the training progressed. \n",
    "\n",
    "* *Loss* is a function of the difference of the network output and the target values.  We are minimizing the loss function during training so it should decrease over time.\n",
    "* *Accuracy* is the classification accuracy for the test data."
   ]
  },
  {
   "cell_type": "code",
   "execution_count": 9,
   "metadata": {},
   "outputs": [
    {
     "name": "stderr",
     "output_type": "stream",
     "text": [
      "/home/lzyhha/anaconda3/envs/jdet/lib/python3.8/site-packages/numpy/core/shape_base.py:65: FutureWarning: The input object of type 'jittor_core.Var' is an array-like implementing one of the corresponding protocols (`__array__`, `__array_interface__` or `__array_struct__`); but not a sequence (or 0-D). In the future, this object will be coerced as if it was first converted using `np.array(obj)`. To retain the old behaviour, you have to either modify the type 'jittor_core.Var', or assign to an empty array created with `np.empty(correct_shape, dtype=object)`.\n",
      "  ary = asanyarray(ary)\n",
      "/home/lzyhha/anaconda3/envs/jdet/lib/python3.8/site-packages/numpy/core/shape_base.py:65: VisibleDeprecationWarning: Creating an ndarray from ragged nested sequences (which is a list-or-tuple of lists-or-tuples-or ndarrays with different lengths or shapes) is deprecated. If you meant to do this, you must specify 'dtype=object' when creating the ndarray.\n",
      "  ary = asanyarray(ary)\n"
     ]
    },
    {
     "data": {
      "image/png": "[encoded data removed]",
      "text/plain": [
       "<Figure size 500x300 with 1 Axes>"
      ]
     },
     "metadata": {},
     "output_type": "display_data"
    },
    {
     "data": {
      "image/png": "[encoded data removed]",
      "text/plain": [
       "<Figure size 500x300 with 1 Axes>"
      ]
     },
     "metadata": {},
     "output_type": "display_data"
    }
   ],
   "source": [
    "plt.figure(figsize=(5,3))\n",
    "plt.plot(np.arange(1, epochs + 1), lossv)\n",
    "plt.title('validation loss')\n",
    "\n",
    "plt.figure(figsize=(5,3))\n",
    "plt.plot(np.arange(1, epochs + 1), accv)\n",
    "plt.title('validation accuracy');"
   ]
  },
  {
   "cell_type": "markdown",
   "metadata": {},
   "source": [
    "## Model tuning\n",
    "\n",
    "Modify the MLP model.  Try to improve the classification accuracy, or experiment with the effects of different parameters.  If you are interested in the state-of-the-art performance on permutation invariant MNIST, see e.g. this [recent paper](https://arxiv.org/abs/1507.02672) by Aalto University / The Curious AI Company researchers.\n",
    "\n",
    "You can also consult the PyTorch documentation at http://pytorch.org/."
   ]
  },
  {
   "cell_type": "code",
   "execution_count": null,
   "metadata": {},
   "outputs": [],
   "source": []
  }
 ],
 "metadata": {
  "kernelspec": {
   "display_name": "Python 3.8.13 ('jdet')",
   "language": "python",
   "name": "python3"
  },
  "language_info": {
   "codemirror_mode": {
    "name": "ipython",
    "version": 3
   },
   "file_extension": ".py",
   "mimetype": "text/x-python",
   "name": "python",
   "nbconvert_exporter": "python",
   "pygments_lexer": "ipython3",
   "version": "3.8.13"
  },
  "vscode": {
   "interpreter": {
    "hash": "a6acb4374800219c151f0bfa0b73a45b419b7670bb08a8dc3ae541dd5a1148ae"
   }
  }
 },
 "nbformat": 4,
 "nbformat_minor": 4
}
