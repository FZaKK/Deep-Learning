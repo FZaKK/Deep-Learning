{
 "cells": [
  {
   "cell_type": "markdown",
   "metadata": {},
   "source": [
    "# MNIST handwritten digits classification with MLPs\n",
    "\n",
    "In this notebook, we'll train a multi-layer perceptron model to classify MNIST digits using **PyTorch**. \n",
    "\n",
    "First, the needed imports. "
   ]
  },
  {
   "cell_type": "code",
   "execution_count": null,
   "metadata": {},
   "outputs": [],
   "source": []
  },
  {
   "cell_type": "code",
   "execution_count": 1,
   "metadata": {
    "scrolled": true
   },
   "outputs": [
    {
     "name": "stdout",
     "output_type": "stream",
     "text": [
      "Using PyTorch version: 1.10.2  Device: cpu\n"
     ]
    }
   ],
   "source": [
    "%matplotlib inline\n",
    "\n",
    "import torch\n",
    "import torch.nn as nn\n",
    "import torch.nn.functional as F\n",
    "from torchvision import datasets, transforms\n",
    "\n",
    "import numpy as np\n",
    "import matplotlib.pyplot as plt\n",
    "\n",
    "if torch.cuda.is_available():\n",
    "    device = torch.device('cuda')\n",
    "else:\n",
    "    device = torch.device('cpu')\n",
    "    \n",
    "print('Using PyTorch version:', torch.__version__, ' Device:', device)"
   ]
  },
  {
   "cell_type": "markdown",
   "metadata": {},
   "source": [
    "## Data\n",
    "\n",
    "Next we'll load the MNIST data.  First time we may have to download the data, which can take a while.\n",
    "\n",
    "Note that we are here using the MNIST test data for *validation*, instead of for testing the final model."
   ]
  },
  {
   "cell_type": "code",
   "execution_count": 2,
   "metadata": {},
   "outputs": [],
   "source": [
    "batch_size = 32\n",
    "\n",
    "train_dataset = datasets.MNIST('./data', \n",
    "                               train=True, \n",
    "                               download=True, \n",
    "                               transform=transforms.ToTensor())\n",
    "\n",
    "validation_dataset = datasets.MNIST('./data', \n",
    "                                    train=False, \n",
    "                                    transform=transforms.ToTensor())\n",
    "\n",
    "train_loader = torch.utils.data.DataLoader(dataset=train_dataset, \n",
    "                                           batch_size=batch_size, \n",
    "                                           shuffle=True)\n",
    "\n",
    "validation_loader = torch.utils.data.DataLoader(dataset=validation_dataset, \n",
    "                                                batch_size=batch_size, \n",
    "                                                shuffle=False)"
   ]
  },
  {
   "cell_type": "markdown",
   "metadata": {},
   "source": [
    "The train and test data are provided via data loaders that provide iterators over the datasets. The first element of training data (`X_train`) is a 4th-order tensor of size (`batch_size`, 1, 28, 28), i.e. it consists of a batch of images of size 1x28x28 pixels. `y_train` is a vector containing the correct classes (\"0\", \"1\", ..., \"9\") for each training digit."
   ]
  },
  {
   "cell_type": "code",
   "execution_count": 3,
   "metadata": {},
   "outputs": [
    {
     "name": "stdout",
     "output_type": "stream",
     "text": [
      "X_train: torch.Size([32, 1, 28, 28]) type: torch.FloatTensor\n",
      "y_train: torch.Size([32]) type: torch.LongTensor\n"
     ]
    }
   ],
   "source": [
    "for (X_train, y_train) in train_loader:\n",
    "    print('X_train:', X_train.size(), 'type:', X_train.type())\n",
    "    print('y_train:', y_train.size(), 'type:', y_train.type())\n",
    "    break"
   ]
  },
  {
   "cell_type": "markdown",
   "metadata": {},
   "source": [
    "Here are the first 10 training digits:"
   ]
  },
  {
   "cell_type": "code",
   "execution_count": 4,
   "metadata": {},
   "outputs": [
    {
     "data": {
      "image/png": "[encoded data removed]",
      "text/plain": [
       "<Figure size 720x72 with 10 Axes>"
      ]
     },
     "metadata": {
      "needs_background": "light"
     },
     "output_type": "display_data"
    }
   ],
   "source": [
    "pltsize=1\n",
    "plt.figure(figsize=(10*pltsize, pltsize))\n",
    "\n",
    "for i in range(10):\n",
    "    plt.subplot(1,10,i+1)\n",
    "    plt.axis('off')\n",
    "    plt.imshow(X_train[i,:,:,:].numpy().reshape(28,28), cmap=\"gray_r\")\n",
    "    plt.title('Class: '+str(y_train[i].item()))"
   ]
  },
  {
   "cell_type": "markdown",
   "metadata": {},
   "source": [
    "## MLP network definition\n",
    "\n",
    "Let's define the network as a Python class.  We have to write the `__init__()` and `forward()` methods, and PyTorch will automatically generate a `backward()` method for computing the gradients for the backward pass.\n",
    "\n",
    "Finally, we define an optimizer to update the model parameters based on the computed gradients.  We select *stochastic gradient descent (with momentum)* as the optimization algorithm, and set *learning rate* to 0.01.  Note that there are [several different options](http://pytorch.org/docs/optim.html#algorithms) for the optimizer in PyTorch that we could use instead of *SGD*."
   ]
  },
  {
   "cell_type": "code",
   "execution_count": 5,
   "metadata": {},
   "outputs": [
    {
     "name": "stdout",
     "output_type": "stream",
     "text": [
      "Net(\n",
      "  (fc1): Linear(in_features=784, out_features=100, bias=True)\n",
      "  (fc1_drop): Dropout(p=0.2, inplace=False)\n",
      "  (fc2): Linear(in_features=100, out_features=80, bias=True)\n",
      "  (fc2_drop): Dropout(p=0.2, inplace=False)\n",
      "  (fc3): Linear(in_features=80, out_features=10, bias=True)\n",
      ")\n"
     ]
    }
   ],
   "source": [
    "class Net(nn.Module):\n",
    "    def __init__(self):\n",
    "        super(Net, self).__init__()\n",
    "        self.fc1 = nn.Linear(28*28, 100)  # weight: [28*28, 50]   bias: [50, ]\n",
    "        self.fc1_drop = nn.Dropout(0.2)\n",
    "        self.fc2 = nn.Linear(100, 80)\n",
    "        self.fc2_drop = nn.Dropout(0.2)\n",
    "        self.fc3 = nn.Linear(80, 10)\n",
    "        \n",
    "#         self.relu1 = nn.ReLU() \n",
    "\n",
    "    def forward(self, x):\n",
    "        x = x.view(-1, 28*28)   # [32, 28*28]\n",
    "        x = F.relu(self.fc1(x))\n",
    "        x = self.fc1_drop(x)\n",
    "        x = F.relu(self.fc2(x))\n",
    "        x = self.fc2_drop(x)   # [32, 10]\n",
    "        return F.log_softmax(self.fc3(x), dim=1)\n",
    "\n",
    "model = Net().to(device)\n",
    "optimizer = torch.optim.SGD(model.parameters(), lr=0.01, momentum=0.5)\n",
    "criterion = nn.CrossEntropyLoss()\n",
    "\n",
    "print(model)"
   ]
  },
  {
   "cell_type": "markdown",
   "metadata": {},
   "source": [
    "## Learning\n",
    "\n",
    "Let's now define functions to `train()` and `validate()` the model. "
   ]
  },
  {
   "cell_type": "code",
   "execution_count": 6,
   "metadata": {},
   "outputs": [],
   "source": [
    "def train(epoch, log_interval=200):\n",
    "    # Set model to training mode\n",
    "    model.train()\n",
    "    \n",
    "    # Loop over each batch from the training set\n",
    "    for batch_idx, (data, target) in enumerate(train_loader):\n",
    "        # Copy data to GPU if needed\n",
    "        data = data.to(device)\n",
    "        target = target.to(device)\n",
    "\n",
    "        # Zero gradient buffers\n",
    "        optimizer.zero_grad() \n",
    "        \n",
    "        # Pass data through the network\n",
    "        output = model(data)\n",
    "\n",
    "        # Calculate loss\n",
    "        loss = criterion(output, target)\n",
    "\n",
    "        # Backpropagate\n",
    "        loss.backward()  \n",
    "        \n",
    "        # Update weights\n",
    "        optimizer.step()    #  w - alpha * dL / dw\n",
    "        \n",
    "        if batch_idx % log_interval == 0:\n",
    "            print('Train Epoch: {} [{}/{} ({:.0f}%)]\\tLoss: {:.6f}'.format(\n",
    "                epoch, batch_idx * len(data), len(train_loader.dataset),\n",
    "                100. * batch_idx / len(train_loader), loss.data.item()))"
   ]
  },
  {
   "cell_type": "code",
   "execution_count": 7,
   "metadata": {},
   "outputs": [],
   "source": [
    "def validate(loss_vector, accuracy_vector):\n",
    "    model.eval()\n",
    "    val_loss, correct = 0, 0\n",
    "    for data, target in validation_loader:\n",
    "        data = data.to(device)\n",
    "        target = target.to(device)\n",
    "        output = model(data)\n",
    "        val_loss += criterion(output, target).data.item()\n",
    "        pred = output.data.max(1)[1] # get the index of the max log-probability\n",
    "        correct += pred.eq(target.data).cpu().sum()\n",
    "\n",
    "    val_loss /= len(validation_loader)\n",
    "    loss_vector.append(val_loss)\n",
    "\n",
    "    accuracy = 100. * correct.to(torch.float32) / len(validation_loader.dataset)\n",
    "    accuracy_vector.append(accuracy)\n",
    "    \n",
    "    print('\\nValidation set: Average loss: {:.4f}, Accuracy: {}/{} ({:.0f}%)\\n'.format(\n",
    "        val_loss, correct, len(validation_loader.dataset), accuracy))\n"
   ]
  },
  {
   "cell_type": "markdown",
   "metadata": {},
   "source": [
    "Now we are ready to train our model using the `train()` function.  An *epoch* means one pass through the whole training data. After each epoch, we evaluate the model using `validate()`. "
   ]
  },
  {
   "cell_type": "code",
   "execution_count": 8,
   "metadata": {},
   "outputs": [
    {
     "name": "stdout",
     "output_type": "stream",
     "text": [
      "Train Epoch: 1 [0/60000 (0%)]\tLoss: 2.292247\n",
      "Train Epoch: 1 [6400/60000 (11%)]\tLoss: 2.101898\n",
      "Train Epoch: 1 [12800/60000 (21%)]\tLoss: 1.061426\n",
      "Train Epoch: 1 [19200/60000 (32%)]\tLoss: 0.909328\n",
      "Train Epoch: 1 [25600/60000 (43%)]\tLoss: 0.450964\n",
      "Train Epoch: 1 [32000/60000 (53%)]\tLoss: 0.487216\n",
      "Train Epoch: 1 [38400/60000 (64%)]\tLoss: 0.850810\n",
      "Train Epoch: 1 [44800/60000 (75%)]\tLoss: 0.689628\n",
      "Train Epoch: 1 [51200/60000 (85%)]\tLoss: 0.523318\n",
      "Train Epoch: 1 [57600/60000 (96%)]\tLoss: 0.449156\n",
      "\n",
      "Validation set: Average loss: 0.3337, Accuracy: 9058/10000 (91%)\n",
      "\n",
      "Train Epoch: 2 [0/60000 (0%)]\tLoss: 0.429929\n",
      "Train Epoch: 2 [6400/60000 (11%)]\tLoss: 0.313601\n",
      "Train Epoch: 2 [12800/60000 (21%)]\tLoss: 0.397812\n",
      "Train Epoch: 2 [19200/60000 (32%)]\tLoss: 0.170615\n",
      "Train Epoch: 2 [25600/60000 (43%)]\tLoss: 0.415722\n",
      "Train Epoch: 2 [32000/60000 (53%)]\tLoss: 0.356647\n",
      "Train Epoch: 2 [38400/60000 (64%)]\tLoss: 0.493384\n",
      "Train Epoch: 2 [44800/60000 (75%)]\tLoss: 0.411626\n",
      "Train Epoch: 2 [51200/60000 (85%)]\tLoss: 0.186184\n",
      "Train Epoch: 2 [57600/60000 (96%)]\tLoss: 0.247234\n",
      "\n",
      "Validation set: Average loss: 0.2356, Accuracy: 9309/10000 (93%)\n",
      "\n",
      "Train Epoch: 3 [0/60000 (0%)]\tLoss: 0.207662\n",
      "Train Epoch: 3 [6400/60000 (11%)]\tLoss: 0.475446\n",
      "Train Epoch: 3 [12800/60000 (21%)]\tLoss: 0.577935\n",
      "Train Epoch: 3 [19200/60000 (32%)]\tLoss: 0.278481\n",
      "Train Epoch: 3 [25600/60000 (43%)]\tLoss: 0.171401\n",
      "Train Epoch: 3 [32000/60000 (53%)]\tLoss: 0.201976\n",
      "Train Epoch: 3 [38400/60000 (64%)]\tLoss: 0.177949\n",
      "Train Epoch: 3 [44800/60000 (75%)]\tLoss: 0.237997\n",
      "Train Epoch: 3 [51200/60000 (85%)]\tLoss: 0.272920\n",
      "Train Epoch: 3 [57600/60000 (96%)]\tLoss: 0.116585\n",
      "\n",
      "Validation set: Average loss: 0.1890, Accuracy: 9443/10000 (94%)\n",
      "\n",
      "Train Epoch: 4 [0/60000 (0%)]\tLoss: 0.383855\n",
      "Train Epoch: 4 [6400/60000 (11%)]\tLoss: 0.083067\n",
      "Train Epoch: 4 [12800/60000 (21%)]\tLoss: 0.499342\n",
      "Train Epoch: 4 [19200/60000 (32%)]\tLoss: 0.238474\n",
      "Train Epoch: 4 [25600/60000 (43%)]\tLoss: 0.351158\n",
      "Train Epoch: 4 [32000/60000 (53%)]\tLoss: 0.208685\n",
      "Train Epoch: 4 [38400/60000 (64%)]\tLoss: 0.301866\n",
      "Train Epoch: 4 [44800/60000 (75%)]\tLoss: 0.427102\n",
      "Train Epoch: 4 [51200/60000 (85%)]\tLoss: 0.072843\n",
      "Train Epoch: 4 [57600/60000 (96%)]\tLoss: 0.074485\n",
      "\n",
      "Validation set: Average loss: 0.1591, Accuracy: 9508/10000 (95%)\n",
      "\n",
      "Train Epoch: 5 [0/60000 (0%)]\tLoss: 0.168102\n",
      "Train Epoch: 5 [6400/60000 (11%)]\tLoss: 0.118798\n",
      "Train Epoch: 5 [12800/60000 (21%)]\tLoss: 0.193128\n",
      "Train Epoch: 5 [19200/60000 (32%)]\tLoss: 0.062362\n",
      "Train Epoch: 5 [25600/60000 (43%)]\tLoss: 0.297982\n",
      "Train Epoch: 5 [32000/60000 (53%)]\tLoss: 0.037141\n",
      "Train Epoch: 5 [38400/60000 (64%)]\tLoss: 0.363043\n",
      "Train Epoch: 5 [44800/60000 (75%)]\tLoss: 0.253829\n",
      "Train Epoch: 5 [51200/60000 (85%)]\tLoss: 0.316481\n",
      "Train Epoch: 5 [57600/60000 (96%)]\tLoss: 0.414062\n",
      "\n",
      "Validation set: Average loss: 0.1410, Accuracy: 9558/10000 (96%)\n",
      "\n",
      "Train Epoch: 6 [0/60000 (0%)]\tLoss: 0.060890\n",
      "Train Epoch: 6 [6400/60000 (11%)]\tLoss: 0.046883\n",
      "Train Epoch: 6 [12800/60000 (21%)]\tLoss: 0.161435\n",
      "Train Epoch: 6 [19200/60000 (32%)]\tLoss: 0.079086\n",
      "Train Epoch: 6 [25600/60000 (43%)]\tLoss: 0.200509\n",
      "Train Epoch: 6 [32000/60000 (53%)]\tLoss: 0.051477\n",
      "Train Epoch: 6 [38400/60000 (64%)]\tLoss: 0.128117\n",
      "Train Epoch: 6 [44800/60000 (75%)]\tLoss: 0.120595\n",
      "Train Epoch: 6 [51200/60000 (85%)]\tLoss: 0.259827\n",
      "Train Epoch: 6 [57600/60000 (96%)]\tLoss: 0.072834\n",
      "\n",
      "Validation set: Average loss: 0.1270, Accuracy: 9608/10000 (96%)\n",
      "\n",
      "Train Epoch: 7 [0/60000 (0%)]\tLoss: 0.105014\n",
      "Train Epoch: 7 [6400/60000 (11%)]\tLoss: 0.161459\n",
      "Train Epoch: 7 [12800/60000 (21%)]\tLoss: 0.128831\n",
      "Train Epoch: 7 [19200/60000 (32%)]\tLoss: 0.203431\n",
      "Train Epoch: 7 [25600/60000 (43%)]\tLoss: 0.084327\n",
      "Train Epoch: 7 [32000/60000 (53%)]\tLoss: 0.163183\n",
      "Train Epoch: 7 [38400/60000 (64%)]\tLoss: 0.114699\n",
      "Train Epoch: 7 [44800/60000 (75%)]\tLoss: 0.314809\n",
      "Train Epoch: 7 [51200/60000 (85%)]\tLoss: 0.032354\n",
      "Train Epoch: 7 [57600/60000 (96%)]\tLoss: 0.197517\n",
      "\n",
      "Validation set: Average loss: 0.1142, Accuracy: 9641/10000 (96%)\n",
      "\n",
      "Train Epoch: 8 [0/60000 (0%)]\tLoss: 0.096255\n",
      "Train Epoch: 8 [6400/60000 (11%)]\tLoss: 0.092312\n",
      "Train Epoch: 8 [12800/60000 (21%)]\tLoss: 0.524746\n",
      "Train Epoch: 8 [19200/60000 (32%)]\tLoss: 0.171326\n",
      "Train Epoch: 8 [25600/60000 (43%)]\tLoss: 0.045379\n",
      "Train Epoch: 8 [32000/60000 (53%)]\tLoss: 0.073888\n",
      "Train Epoch: 8 [38400/60000 (64%)]\tLoss: 0.066592\n",
      "Train Epoch: 8 [44800/60000 (75%)]\tLoss: 0.042238\n",
      "Train Epoch: 8 [51200/60000 (85%)]\tLoss: 0.055141\n",
      "Train Epoch: 8 [57600/60000 (96%)]\tLoss: 0.029109\n",
      "\n",
      "Validation set: Average loss: 0.1065, Accuracy: 9672/10000 (97%)\n",
      "\n",
      "Train Epoch: 9 [0/60000 (0%)]\tLoss: 0.179422\n",
      "Train Epoch: 9 [6400/60000 (11%)]\tLoss: 0.076214\n",
      "Train Epoch: 9 [12800/60000 (21%)]\tLoss: 0.201332\n",
      "Train Epoch: 9 [19200/60000 (32%)]\tLoss: 0.136239\n",
      "Train Epoch: 9 [25600/60000 (43%)]\tLoss: 0.071810\n",
      "Train Epoch: 9 [32000/60000 (53%)]\tLoss: 0.081831\n",
      "Train Epoch: 9 [38400/60000 (64%)]\tLoss: 0.285305\n",
      "Train Epoch: 9 [44800/60000 (75%)]\tLoss: 0.056392\n",
      "Train Epoch: 9 [51200/60000 (85%)]\tLoss: 0.137951\n",
      "Train Epoch: 9 [57600/60000 (96%)]\tLoss: 0.092129\n",
      "\n",
      "Validation set: Average loss: 0.1019, Accuracy: 9679/10000 (97%)\n",
      "\n",
      "Train Epoch: 10 [0/60000 (0%)]\tLoss: 0.111909\n",
      "Train Epoch: 10 [6400/60000 (11%)]\tLoss: 0.288273\n",
      "Train Epoch: 10 [12800/60000 (21%)]\tLoss: 0.205576\n",
      "Train Epoch: 10 [19200/60000 (32%)]\tLoss: 0.103310\n",
      "Train Epoch: 10 [25600/60000 (43%)]\tLoss: 0.110661\n",
      "Train Epoch: 10 [32000/60000 (53%)]\tLoss: 0.226320\n",
      "Train Epoch: 10 [38400/60000 (64%)]\tLoss: 0.051478\n",
      "Train Epoch: 10 [44800/60000 (75%)]\tLoss: 0.215940\n",
      "Train Epoch: 10 [51200/60000 (85%)]\tLoss: 0.268047\n",
      "Train Epoch: 10 [57600/60000 (96%)]\tLoss: 0.157417\n",
      "\n",
      "Validation set: Average loss: 0.0992, Accuracy: 9695/10000 (97%)\n",
      "\n",
      "Wall time: 4min 54s\n"
     ]
    }
   ],
   "source": [
    "%%time\n",
    "epochs = 10\n",
    "\n",
    "lossv, accv = [], []\n",
    "for epoch in range(1, epochs + 1):\n",
    "    train(epoch)\n",
    "    validate(lossv, accv)"
   ]
  },
  {
   "cell_type": "markdown",
   "metadata": {},
   "source": [
    "Let's now visualize how the training progressed. \n",
    "\n",
    "* *Loss* is a function of the difference of the network output and the target values.  We are minimizing the loss function during training so it should decrease over time.\n",
    "* *Accuracy* is the classification accuracy for the test data."
   ]
  },
  {
   "cell_type": "code",
   "execution_count": 9,
   "metadata": {},
   "outputs": [
    {
     "data": {
      "image/png": "[encoded data removed]",
      "text/plain": [
       "<Figure size 360x216 with 1 Axes>"
      ]
     },
     "metadata": {
      "needs_background": "light"
     },
     "output_type": "display_data"
    },
    {
     "data": {
      "image/png": "[encoded data removed]",
      "text/plain": [
       "<Figure size 360x216 with 1 Axes>"
      ]
     },
     "metadata": {
      "needs_background": "light"
     },
     "output_type": "display_data"
    }
   ],
   "source": [
    "plt.figure(figsize=(5,3))\n",
    "plt.plot(np.arange(1,epochs+1), lossv)\n",
    "plt.title('validation loss')\n",
    "\n",
    "plt.figure(figsize=(5,3))\n",
    "plt.plot(np.arange(1,epochs+1), accv)\n",
    "plt.title('validation accuracy');"
   ]
  },
  {
   "cell_type": "markdown",
   "metadata": {},
   "source": [
    "## Model tuning\n",
    "\n",
    "Modify the MLP model.  Try to improve the classification accuracy, or experiment with the effects of different parameters.  If you are interested in the state-of-the-art performance on permutation invariant MNIST, see e.g. this [recent paper](https://arxiv.org/abs/1507.02672) by Aalto University / The Curious AI Company researchers.\n",
    "\n",
    "You can also consult the PyTorch documentation at http://pytorch.org/."
   ]
  },
  {
   "cell_type": "code",
   "execution_count": null,
   "metadata": {},
   "outputs": [],
   "source": []
  }
 ],
 "metadata": {
  "kernelspec": {
   "display_name": "py37",
   "language": "python",
   "name": "py37"
  },
  "language_info": {
   "codemirror_mode": {
    "name": "ipython",
    "version": 3
   },
   "file_extension": ".py",
   "mimetype": "text/x-python",
   "name": "python",
   "nbconvert_exporter": "python",
   "pygments_lexer": "ipython3",
   "version": "3.7.11"
  }
 },
 "nbformat": 4,
 "nbformat_minor": 4
}
